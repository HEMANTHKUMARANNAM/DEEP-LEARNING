{
 "cells": [
  {
   "cell_type": "code",
   "execution_count": 1,
   "metadata": {},
   "outputs": [],
   "source": [
    "\n",
    "from sklearn.model_selection import train_test_split \n",
    "import matplotlib.pyplot as plt\n",
    "import numpy as np"
   ]
  },
  {
   "cell_type": "code",
   "execution_count": 2,
   "metadata": {},
   "outputs": [],
   "source": [
    "from sklearn.datasets import load_iris \n",
    "SEED=2017\n"
   ]
  },
  {
   "cell_type": "code",
   "execution_count": 3,
   "metadata": {},
   "outputs": [],
   "source": [
    "iris = load_iris()\n",
    "idxs = np.where(iris.target < 2)\n",
    "X = iris.data[idxs]\n",
    "y = iris.target[idxs]\n"
   ]
  },
  {
   "cell_type": "code",
   "execution_count": 4,
   "metadata": {},
   "outputs": [
    {
     "data": {
      "image/png": "[encoded data removed]",
      "text/plain": [
       "<Figure size 640x480 with 1 Axes>"
      ]
     },
     "metadata": {},
     "output_type": "display_data"
    }
   ],
   "source": [
    "plt.scatter(X[y == 0][:, 0], X[y == 0][:, 2], color='green', label='Iris-Setosa')\n",
    "plt.scatter(X[y == 1][:, 0], X[y == 1][:, 2], color='red', label='Iris-Versicolour')\n",
    "plt.xlabel('Feature 1')\n",
    "plt.ylabel('Feature 3')\n",
    "plt.legend()\n",
    "plt.title('Iris Dataset (Setosa vs Versicolour)')\n",
    "plt.show()"
   ]
  },
  {
   "cell_type": "code",
   "execution_count": 5,
   "metadata": {},
   "outputs": [],
   "source": [
    "X_train, X_val, y_train, y_val = train_test_split(X, y, test_size=0.2, random_state=SEED)"
   ]
  },
  {
   "cell_type": "code",
   "execution_count": 6,
   "metadata": {},
   "outputs": [],
   "source": [
    "weights = np.random.normal(size=X_train.shape[1])\n",
    "bias = 1"
   ]
  },
  {
   "cell_type": "code",
   "execution_count": 7,
   "metadata": {},
   "outputs": [],
   "source": [
    "learning_rate = 0.1\n",
    "n_epochs = 15"
   ]
  },
  {
   "cell_type": "code",
   "execution_count": 8,
   "metadata": {},
   "outputs": [
    {
     "name": "stdout",
     "output_type": "stream",
     "text": [
      "Epoch 1/15 - Error: 0.5125\n",
      "Epoch 2/15 - Error: 0.5125\n",
      "Epoch 3/15 - Error: 0.5125\n",
      "Epoch 4/15 - Error: 0.5125\n",
      "Epoch 5/15 - Error: 0.5125\n",
      "Epoch 6/15 - Error: 0.5125\n",
      "Epoch 7/15 - Error: 0.5125\n",
      "Epoch 8/15 - Error: 0.5125\n",
      "Epoch 9/15 - Error: 0.5125\n",
      "Epoch 10/15 - Error: 0.5125\n",
      "Epoch 11/15 - Error: 0.5125\n",
      "Epoch 12/15 - Error: 0.5125\n",
      "Epoch 13/15 - Error: 0.5125\n",
      "Epoch 14/15 - Error: 0.5125\n",
      "Epoch 15/15 - Error: 0.5125\n"
     ]
    }
   ],
   "source": [
    "hist_loss = []\n",
    "hist_accuracy = []\n",
    "\n",
    "# Training the perceptron\n",
    "for epoch in range(n_epochs):\n",
    "    # Compute predictions\n",
    "    output = np.where((X_train.dot(weights) + bias) > 0.5, 1, 0)\n",
    "\n",
    "    # Compute the Mean Squared Error (MSE)\n",
    "    error = np.mean((y_train - output) ** 2)\n",
    "    print(f\"Epoch {epoch + 1}/{n_epochs} - Error: {error}\")\n"
   ]
  },
  {
   "cell_type": "code",
   "execution_count": 9,
   "metadata": {},
   "outputs": [],
   "source": [
    "weights -= learning_rate * np.dot((output - y_train), X_train) / len(y_train) \n",
    "bias += learning_rate * np.sum(output - y_train) / len(y_train)\n"
   ]
  },
  {
   "cell_type": "code",
   "execution_count": 10,
   "metadata": {},
   "outputs": [],
   "source": [
    "loss = np.mean((output - y_train) ** 2)\n",
    "hist_loss.append(loss)\n"
   ]
  },
  {
   "cell_type": "code",
   "execution_count": 11,
   "metadata": {},
   "outputs": [],
   "source": [
    "output_val = np.where(X_val.dot(weights) + bias > 0.5, 1, 0)\n",
    "accuracy = np.mean(y_val == output_val)\n",
    "hist_accuracy.append(accuracy)\n"
   ]
  },
  {
   "cell_type": "code",
   "execution_count": 12,
   "metadata": {},
   "outputs": [
    {
     "data": {
      "text/plain": [
       "<Figure size 1600x600 with 0 Axes>"
      ]
     },
     "metadata": {},
     "output_type": "display_data"
    }
   ],
   "source": [
    "fig = plt.figure(figsize=(16, 6))"
   ]
  },
  {
   "cell_type": "code",
   "execution_count": 13,
   "metadata": {},
   "outputs": [
    {
     "data": {
      "text/plain": [
       "<matplotlib.legend.Legend at 0x181f0b73ef0>"
      ]
     },
     "execution_count": 13,
     "metadata": {},
     "output_type": "execute_result"
    }
   ],
   "source": [
    "ax1 = fig.add_subplot(1, 2, 1)\n",
    "ax1.plot(hist_loss, label='Training Loss')\n",
    "ax1.set_xlabel('Epochs')\n",
    "ax1.set_ylabel('Loss')\n",
    "ax1.set_title('Training Loss')\n",
    "ax1.legend()"
   ]
  },
  {
   "cell_type": "code",
   "execution_count": 14,
   "metadata": {},
   "outputs": [],
   "source": [
    "ax2 = fig.add_subplot(1, 2, 2)\n",
    "ax2.plot(hist_accuracy, label='Validation Accuracy')\n",
    "ax2.set_xlabel('Epochs')\n",
    "ax2.set_ylabel('Accuracy')\n",
    "ax2.set_title('Validation Accuracy')\n",
    "ax2.legend()\n",
    "\n",
    "plt.show()"
   ]
  }
 ],
 "metadata": {
  "kernelspec": {
   "display_name": "Python 3",
   "language": "python",
   "name": "python3"
  },
  "language_info": {
   "codemirror_mode": {
    "name": "ipython",
    "version": 3
   },
   "file_extension": ".py",
   "mimetype": "text/x-python",
   "name": "python",
   "nbconvert_exporter": "python",
   "pygments_lexer": "ipython3",
   "version": "3.12.2"
  }
 },
 "nbformat": 4,
 "nbformat_minor": 2
}
